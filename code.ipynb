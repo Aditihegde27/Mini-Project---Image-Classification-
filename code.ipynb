{
  "nbformat": 4,
  "nbformat_minor": 0,
  "metadata": {
    "colab": {
      "name": "code.ipynb",
      "provenance": [],
      "collapsed_sections": [],
      "mount_file_id": "1wKGC3L0hBCdaeG9qT7aP5qWj3aHBQEve",
      "authorship_tag": "ABX9TyMnbCo/oy2QnlTaTqq15hZL",
      "include_colab_link": true
    },
    "kernelspec": {
      "name": "python3",
      "display_name": "Python 3"
    }
  },
  "cells": [
    {
      "cell_type": "markdown",
      "metadata": {
        "id": "view-in-github",
        "colab_type": "text"
      },
      "source": [
        "<a href=\"https://colab.research.google.com/github/Aditihegde27/Mini-Project---Image-Classification-/blob/master/code.ipynb\" target=\"_parent\"><img src=\"https://colab.research.google.com/assets/colab-badge.svg\" alt=\"Open In Colab\"/></a>"
      ]
    },
    {
      "cell_type": "code",
      "metadata": {
        "id": "JSQqPFrr7AoW",
        "colab_type": "code",
        "colab": {
          "base_uri": "https://localhost:8080/",
          "height": 34
        },
        "outputId": "7aed9f7f-e83a-40f6-caa9-cacd17273f8b"
      },
      "source": [
        "!pip install bing-image-downloader\n"
      ],
      "execution_count": null,
      "outputs": [
        {
          "output_type": "stream",
          "text": [
            "Requirement already satisfied: bing-image-downloader in /usr/local/lib/python3.6/dist-packages (1.0.4)\n"
          ],
          "name": "stdout"
        }
      ]
    },
    {
      "cell_type": "code",
      "metadata": {
        "id": "lxaie3_vHtGr",
        "colab_type": "code",
        "colab": {
          "base_uri": "https://localhost:8080/",
          "height": 34
        },
        "outputId": "7f3f955d-587c-4c67-f68d-c0bda9f6a2d2"
      },
      "source": [
        "cd /content/drive/My Drive/Mini Project"
      ],
      "execution_count": null,
      "outputs": [
        {
          "output_type": "stream",
          "text": [
            "/content/drive/My Drive/Mini Project\n"
          ],
          "name": "stdout"
        }
      ]
    },
    {
      "cell_type": "code",
      "metadata": {
        "id": "zBknpK9xIPhK",
        "colab_type": "code",
        "colab": {
          "base_uri": "https://localhost:8080/",
          "height": 34
        },
        "outputId": "f41d3047-5b5f-481f-fe56-e409f6937f85"
      },
      "source": [
        "cd images"
      ],
      "execution_count": null,
      "outputs": [
        {
          "output_type": "stream",
          "text": [
            "/content/drive/My Drive/Mini Project/images\n"
          ],
          "name": "stdout"
        }
      ]
    },
    {
      "cell_type": "code",
      "metadata": {
        "id": "o-e36dA7H7DZ",
        "colab_type": "code",
        "colab": {}
      },
      "source": [
        "from bing_image_downloader import downloader\n",
        "downloader.download(\"cat animal\",limit = 5000,output_dir = 'images')"
      ],
      "execution_count": null,
      "outputs": []
    },
    {
      "cell_type": "code",
      "metadata": {
        "id": "RB-PAFNmIbcj",
        "colab_type": "code",
        "colab": {}
      },
      "source": [
        "downloader.download(\"dog animal\",limit = 5000,output_dir = 'images')"
      ],
      "execution_count": null,
      "outputs": []
    },
    {
      "cell_type": "code",
      "metadata": {
        "id": "bEoVALdCHWf2",
        "colab_type": "code",
        "colab": {}
      },
      "source": [
        "import os\n",
        "import numpy as np\n",
        "import pandas as pd\n",
        "import matplotlib.pyplot as plt\n",
        "import cv2\n",
        "import pickle\n",
        "import random\n",
        "from sklearn.model_selection import train_test_split\n",
        "from sklearn.svm import SVC"
      ],
      "execution_count": 3,
      "outputs": []
    },
    {
      "cell_type": "code",
      "metadata": {
        "id": "aHYjCkcN7h5D",
        "colab_type": "code",
        "colab": {}
      },
      "source": [
        "dir = '/content/drive/My Drive/Mini Project/images/images'\n",
        "categories= ['cat animal','dog animal']"
      ],
      "execution_count": 4,
      "outputs": []
    },
    {
      "cell_type": "code",
      "metadata": {
        "id": "-O3MYTjY753x",
        "colab_type": "code",
        "colab": {
          "base_uri": "https://localhost:8080/",
          "height": 34
        },
        "outputId": "e5514d07-1ddf-4dd5-87ee-3ca56c4462c4"
      },
      "source": [
        " data= []\n",
        "for category in categories  :\n",
        "    path=os.path.join(dir,category)\n",
        "    label=categories.index(category)\n",
        "    for img in os.listdir(path):\n",
        "        imgpath=os.path.join(path,img)\n",
        "        \n",
        "        pet = cv2.imread(imgpath,0)\n",
        "        try:\n",
        "           pet = cv2.cvtColor(pet,cv2.COLOR_BGR2RGB)\n",
        "           pet = cv2.resize(pet,(64,64))\n",
        "           image=np.array(pet).flatten()\n",
        "           data.append([image,label])\n",
        "        except Exception as e:\n",
        "          pass\n",
        "\n",
        "print(len(data))"
      ],
      "execution_count": 5,
      "outputs": [
        {
          "output_type": "stream",
          "text": [
            "10460\n"
          ],
          "name": "stdout"
        }
      ]
    },
    {
      "cell_type": "code",
      "metadata": {
        "id": "GLfiJ8YG9kPl",
        "colab_type": "code",
        "colab": {}
      },
      "source": [
        "pick_in=open('data.pickle','wb')\n",
        "pickle.dump(data,pick_in)\n",
        "pick_in.close()"
      ],
      "execution_count": 6,
      "outputs": []
    },
    {
      "cell_type": "code",
      "metadata": {
        "id": "bDyj3lS58ajh",
        "colab_type": "code",
        "colab": {}
      },
      "source": [
        "pick_in=open('data.pickle','rb')\n",
        "data = pickle.load(pick_in)\n",
        "pick_in.close()"
      ],
      "execution_count": 7,
      "outputs": []
    },
    {
      "cell_type": "code",
      "metadata": {
        "id": "BFAwHalvA2ev",
        "colab_type": "code",
        "colab": {}
      },
      "source": [
        "random.shuffle(data)\n",
        "features = []\n",
        "labels = []\n"
      ],
      "execution_count": 9,
      "outputs": []
    },
    {
      "cell_type": "code",
      "metadata": {
        "id": "s6Q7iXjWBD9m",
        "colab_type": "code",
        "colab": {}
      },
      "source": [
        "for feature ,label in data:\n",
        "  features.append(feature)\n",
        "  labels.append(label)"
      ],
      "execution_count": 10,
      "outputs": []
    },
    {
      "cell_type": "code",
      "metadata": {
        "id": "K8KqZsYhBdJi",
        "colab_type": "code",
        "colab": {}
      },
      "source": [
        "xtrain,xtest,ytrain,ytest = train_test_split(features,labels,test_size= 0.98)"
      ],
      "execution_count": 11,
      "outputs": []
    },
    {
      "cell_type": "code",
      "metadata": {
        "id": "gIVBmpXjDHUQ",
        "colab_type": "code",
        "colab": {
          "base_uri": "https://localhost:8080/",
          "height": 85
        },
        "outputId": "8bf81608-b44a-4afa-eb91-bd8ed7be663e"
      },
      "source": [
        "model = SVC(C=1,kernel='poly',gamma='auto')\n",
        "model.fit(xtrain,ytrain)\n"
      ],
      "execution_count": 12,
      "outputs": [
        {
          "output_type": "execute_result",
          "data": {
            "text/plain": [
              "SVC(C=1, break_ties=False, cache_size=200, class_weight=None, coef0=0.0,\n",
              "    decision_function_shape='ovr', degree=3, gamma='auto', kernel='poly',\n",
              "    max_iter=-1, probability=False, random_state=None, shrinking=True,\n",
              "    tol=0.001, verbose=False)"
            ]
          },
          "metadata": {
            "tags": []
          },
          "execution_count": 12
        }
      ]
    },
    {
      "cell_type": "code",
      "metadata": {
        "id": "RtK3dvl4QR9y",
        "colab_type": "code",
        "colab": {}
      },
      "source": [
        "pick = open('model.sav','wb')\n",
        "pickle.dump(model,pick)\n",
        "pick.close()"
      ],
      "execution_count": 13,
      "outputs": []
    },
    {
      "cell_type": "code",
      "metadata": {
        "id": "0CnYxfLDRjTl",
        "colab_type": "code",
        "colab": {}
      },
      "source": [
        "pick = open('model.sav','rb')\n",
        "model = pickle.load(pick)\n",
        "pick.close()"
      ],
      "execution_count": 14,
      "outputs": []
    },
    {
      "cell_type": "code",
      "metadata": {
        "id": "vcrfk1-NEq2G",
        "colab_type": "code",
        "colab": {}
      },
      "source": [
        "prediction = model.predict(xtest)\n",
        "accuracy = model.score(xtest,ytest)"
      ],
      "execution_count": 15,
      "outputs": []
    },
    {
      "cell_type": "code",
      "metadata": {
        "id": "z3UE-WbGFmbr",
        "colab_type": "code",
        "colab": {}
      },
      "source": [
        "categories = ['cat animal','dog animal']"
      ],
      "execution_count": 16,
      "outputs": []
    },
    {
      "cell_type": "code",
      "metadata": {
        "id": "nMPQqNp6E8vJ",
        "colab_type": "code",
        "colab": {
          "base_uri": "https://localhost:8080/",
          "height": 51
        },
        "outputId": "2e430bbd-c771-4d14-f922-d0eb15f6fc87"
      },
      "source": [
        "print('Accuracy :',accuracy)\n",
        "print('Prediction  is :',categories[prediction[0]])"
      ],
      "execution_count": 17,
      "outputs": [
        {
          "output_type": "stream",
          "text": [
            "Accuracy : 0.7654862940200956\n",
            "Prediction  is : cat animal\n"
          ],
          "name": "stdout"
        }
      ]
    },
    {
      "cell_type": "code",
      "metadata": {
        "id": "0hKXuRbAF8Ld",
        "colab_type": "code",
        "colab": {
          "base_uri": "https://localhost:8080/",
          "height": 163
        },
        "outputId": "5f72f9b7-6ad3-41e4-ebd9-16aac7c3eb6a"
      },
      "source": [
        "mypet = xtest[0].reshape(64,192)\n",
        "cv2.cvtColor(mypet,cv2.COLOR_BGR2RGB)\n",
        "plt.imshow(mypet)\n",
        "plt.show()"
      ],
      "execution_count": 31,
      "outputs": [
        {
          "output_type": "display_data",
          "data": {
            "image/png": "[encoded data removed]",
            "text/plain": [
              "<Figure size 432x288 with 1 Axes>"
            ]
          },
          "metadata": {
            "tags": [],
            "needs_background": "light"
          }
        }
      ]
    }
  ]
}